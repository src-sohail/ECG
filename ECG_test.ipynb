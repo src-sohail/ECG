{
 "cells": [
  {
   "cell_type": "code",
   "execution_count": 6,
   "id": "55574379",
   "metadata": {},
   "outputs": [],
   "source": [
    "import tensorflow\n",
    "import numpy as np\n",
    "import pandas as pd\n",
    "from tensorflow.keras.models import load_model"
   ]
  },
  {
   "cell_type": "code",
   "execution_count": 4,
   "id": "a0716b70",
   "metadata": {},
   "outputs": [],
   "source": [
    "nm = load_model('./ECG_detector_model.h5')"
   ]
  },
  {
   "cell_type": "code",
   "execution_count": 3,
   "id": "2bb7ceef",
   "metadata": {},
   "outputs": [],
   "source": [
    "types = [\"Non Ectopic beats (Normal beats)\",'Supraventrical ectopic beats',\"Ventricular ectopic beats\",'Fusion beats','Unknown beats']"
   ]
  },
  {
   "cell_type": "code",
   "execution_count": 7,
   "id": "3082c8db",
   "metadata": {},
   "outputs": [],
   "source": [
    "test = pd.read_csv(\"testdata.csv\",header = None, index_col = False)"
   ]
  },
  {
   "cell_type": "code",
   "execution_count": 9,
   "id": "4b44cc1c",
   "metadata": {},
   "outputs": [],
   "source": [
    "pred = nm.predict(test)"
   ]
  },
  {
   "cell_type": "code",
   "execution_count": 11,
   "id": "fe0f09ca",
   "metadata": {},
   "outputs": [
    {
     "name": "stdout",
     "output_type": "stream",
     "text": [
      "Non Ectopic beats (Normal beats)\n",
      "Non Ectopic beats (Normal beats)\n",
      "Non Ectopic beats (Normal beats)\n",
      "Non Ectopic beats (Normal beats)\n",
      "Non Ectopic beats (Normal beats)\n",
      "Ventricular ectopic beats\n",
      "Ventricular ectopic beats\n",
      "Ventricular ectopic beats\n",
      "Ventricular ectopic beats\n",
      "Ventricular ectopic beats\n",
      "Fusion beats\n",
      "Fusion beats\n",
      "Fusion beats\n",
      "Fusion beats\n",
      "Non Ectopic beats (Normal beats)\n",
      "Unknown beats\n",
      "Unknown beats\n",
      "Unknown beats\n",
      "Unknown beats\n",
      "Unknown beats\n",
      "Non Ectopic beats (Normal beats)\n",
      "Non Ectopic beats (Normal beats)\n",
      "Supraventrical ectopic beats\n",
      "Supraventrical ectopic beats\n",
      "Non Ectopic beats (Normal beats)\n"
     ]
    }
   ],
   "source": [
    "for i in range(len(pred)):\n",
    "    print(types[np.argmax(pred[i])])"
   ]
  },
  {
   "cell_type": "code",
   "execution_count": null,
   "id": "48638580",
   "metadata": {},
   "outputs": [],
   "source": []
  }
 ],
 "metadata": {
  "kernelspec": {
   "display_name": "Python 3",
   "language": "python",
   "name": "python3"
  },
  "language_info": {
   "codemirror_mode": {
    "name": "ipython",
    "version": 3
   },
   "file_extension": ".py",
   "mimetype": "text/x-python",
   "name": "python",
   "nbconvert_exporter": "python",
   "pygments_lexer": "ipython3",
   "version": "3.8.8"
  }
 },
 "nbformat": 4,
 "nbformat_minor": 5
}
